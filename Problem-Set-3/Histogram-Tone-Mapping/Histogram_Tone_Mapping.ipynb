{
  "nbformat": 4,
  "nbformat_minor": 0,
  "metadata": {
    "colab": {
      "name": "Histogram-Tone-Mapping.ipynb",
      "version": "0.3.2",
      "provenance": [],
      "collapsed_sections": []
    },
    "kernelspec": {
      "name": "julia-1.0",
      "display_name": "Julia 1.0"
    },
    "accelerator": "GPU"
  },
  "cells": [
    {
      "cell_type": "markdown",
      "metadata": {
        "id": "OeFrJ5xXl4Eh",
        "colab_type": "text"
      },
      "source": [
        "# Histogram-Tone-Mapping\n",
        "\n",
        "## To transform the intensities in an image and reduce the brightness spectrum bandwidth using parallel implementations of reduce, scan and histogram construction"
      ]
    },
    {
      "cell_type": "code",
      "metadata": {
        "id": "ubyLWrWQrb7p",
        "colab_type": "code",
        "outputId": "35756517-1e79-4da5-8f04-d54eeb069197",
        "colab": {
          "base_uri": "https://localhost:8080/",
          "height": 593
        }
      },
      "source": [
        "using Pkg\n",
        "Pkg.add(\"CuArrays\")\n",
        "Pkg.add(\"CUDAnative\")\n",
        "Pkg.add(\"CUDAdrv\")\n",
        "Pkg.add(\"StaticArrays\")\n",
        "Pkg.add(\"BenchmarkTools\")\n",
        "Pkg.add(\"Test\")"
      ],
      "execution_count": 1,
      "outputs": [
        {
          "output_type": "stream",
          "text": [
            "\u001b[32m\u001b[1m  Updating\u001b[22m\u001b[39m registry at `~/.julia/registries/General`\n",
            "\u001b[32m\u001b[1m  Updating\u001b[22m\u001b[39m git-repo `https://github.com/JuliaRegistries/General.git`\n",
            "\u001b[?25l\u001b[2K\u001b[?25h\u001b[32m\u001b[1m Resolving\u001b[22m\u001b[39m package versions...\n",
            "\u001b[32m\u001b[1m  Updating\u001b[22m\u001b[39m `~/.julia/environments/v1.0/Project.toml`\n",
            "\u001b[90m [no changes]\u001b[39m\n",
            "\u001b[32m\u001b[1m  Updating\u001b[22m\u001b[39m `~/.julia/environments/v1.0/Manifest.toml`\n",
            "\u001b[90m [no changes]\u001b[39m\n",
            "\u001b[32m\u001b[1m Resolving\u001b[22m\u001b[39m package versions...\n",
            "\u001b[32m\u001b[1m  Updating\u001b[22m\u001b[39m `~/.julia/environments/v1.0/Project.toml`\n",
            "\u001b[90m [no changes]\u001b[39m\n",
            "\u001b[32m\u001b[1m  Updating\u001b[22m\u001b[39m `~/.julia/environments/v1.0/Manifest.toml`\n",
            "\u001b[90m [no changes]\u001b[39m\n",
            "\u001b[32m\u001b[1m Resolving\u001b[22m\u001b[39m package versions...\n",
            "\u001b[32m\u001b[1m  Updating\u001b[22m\u001b[39m `~/.julia/environments/v1.0/Project.toml`\n",
            "\u001b[90m [no changes]\u001b[39m\n",
            "\u001b[32m\u001b[1m  Updating\u001b[22m\u001b[39m `~/.julia/environments/v1.0/Manifest.toml`\n",
            "\u001b[90m [no changes]\u001b[39m\n",
            "\u001b[32m\u001b[1m Resolving\u001b[22m\u001b[39m package versions...\n",
            "\u001b[32m\u001b[1m  Updating\u001b[22m\u001b[39m `~/.julia/environments/v1.0/Project.toml`\n",
            "\u001b[90m [no changes]\u001b[39m\n",
            "\u001b[32m\u001b[1m  Updating\u001b[22m\u001b[39m `~/.julia/environments/v1.0/Manifest.toml`\n",
            "\u001b[90m [no changes]\u001b[39m\n",
            "\u001b[32m\u001b[1m Resolving\u001b[22m\u001b[39m package versions...\n",
            "\u001b[32m\u001b[1m  Updating\u001b[22m\u001b[39m `~/.julia/environments/v1.0/Project.toml`\n",
            "\u001b[90m [no changes]\u001b[39m\n",
            "\u001b[32m\u001b[1m  Updating\u001b[22m\u001b[39m `~/.julia/environments/v1.0/Manifest.toml`\n",
            "\u001b[90m [no changes]\u001b[39m\n",
            "\u001b[32m\u001b[1m Resolving\u001b[22m\u001b[39m package versions...\n",
            "\u001b[32m\u001b[1m  Updating\u001b[22m\u001b[39m `~/.julia/environments/v1.0/Project.toml`\n",
            "\u001b[90m [no changes]\u001b[39m\n",
            "\u001b[32m\u001b[1m  Updating\u001b[22m\u001b[39m `~/.julia/environments/v1.0/Manifest.toml`\n",
            "\u001b[90m [no changes]\u001b[39m\n"
          ],
          "name": "stdout"
        }
      ]
    },
    {
      "cell_type": "code",
      "metadata": {
        "id": "7jPu1AFv9Y10",
        "colab_type": "code",
        "colab": {}
      },
      "source": [
        "using CUDAnative, CUDAdrv, CuArrays, StaticArrays, BenchmarkTools, Test"
      ],
      "execution_count": 0,
      "outputs": []
    },
    {
      "cell_type": "code",
      "metadata": {
        "id": "HSuNoeXGcFQ3",
        "colab_type": "code",
        "outputId": "60a6205e-ad61-4396-f635-1dc0b570762f",
        "colab": {
          "base_uri": "https://localhost:8080/",
          "height": 503
        }
      },
      "source": [
        "N = 2^10\n",
        "# Brightness values for tone mapping\n",
        "input_arr = rand(N)"
      ],
      "execution_count": 4,
      "outputs": [
        {
          "output_type": "execute_result",
          "data": {
            "text/plain": [
              "1024-element Array{Float64,1}:\n",
              " 0.3469296475829524 \n",
              " 0.42652320964933255\n",
              " 0.14672477427006925\n",
              " 0.590779659025265  \n",
              " 0.7991733975272257 \n",
              " 0.18554553957191633\n",
              " 0.5793484178233579 \n",
              " 0.9902520929288257 \n",
              " 0.4793704817045328 \n",
              " 0.49014173417192786\n",
              " 0.10424878780665314\n",
              " 0.35466155136589417\n",
              " 0.07201106740972119\n",
              " ⋮                  \n",
              " 0.249573869176974  \n",
              " 0.79763283942174   \n",
              " 0.8157098777157057 \n",
              " 0.14417111158756457\n",
              " 0.895054338620928  \n",
              " 0.29651677991731784\n",
              " 0.2843714916298379 \n",
              " 0.7016794885722495 \n",
              " 0.7141857000778034 \n",
              " 0.7202133037559715 \n",
              " 0.46409043297108643\n",
              " 0.27396556346921974"
            ]
          },
          "metadata": {
            "tags": []
          },
          "execution_count": 4
        }
      ]
    },
    {
      "cell_type": "code",
      "metadata": {
        "id": "P2Y_sfmYcbzx",
        "colab_type": "code",
        "outputId": "a9892d4d-c6f5-4713-ee86-cb7a1a71ec68",
        "colab": {
          "base_uri": "https://localhost:8080/",
          "height": 35
        }
      },
      "source": [
        "# Kernel to find minimum and maximum of brightness values using reduce\n",
        "\n",
        "function find_minmax(d_inputmin,d_inputmax)\n",
        "  idx = (blockIdx().x - 1) * blockDim().x + threadIdx().x\n",
        "  \n",
        "  if(idx <= size(d_inputmin,1))\n",
        "    step = 1\n",
        "    while step < blockDim().x\n",
        "      if(idx % (step*2) ==1 && idx + step <= size(d_inputmin,1))\n",
        "        @inbounds d_inputmin[idx] = min(d_inputmin[idx],d_inputmin[idx + step])\n",
        "        @inbounds d_inputmax[idx] = max(d_inputmax[idx],d_inputmax[idx + step])\n",
        "      end\n",
        "      step *= 2\n",
        "      sync_threads\n",
        "    end\n",
        "    if(threadIdx()==1 && idx!=1)\n",
        "      @inbounds @atomic d_inputmin[1] = min(d_inputmin[1],d_inputmin[idx])\n",
        "      @inbounds @atomic d_inputmax[1] = max(d_inputmax[1],d_inputmax[idx])\n",
        "    end\n",
        "  end\n",
        "  \n",
        "  return\n",
        "end"
      ],
      "execution_count": 7,
      "outputs": [
        {
          "output_type": "execute_result",
          "data": {
            "text/plain": [
              "find_minmax (generic function with 1 method)"
            ]
          },
          "metadata": {
            "tags": []
          },
          "execution_count": 7
        }
      ]
    },
    {
      "cell_type": "code",
      "metadata": {
        "id": "G_QcD8MleU2D",
        "colab_type": "code",
        "outputId": "443fbdfb-0f99-435d-c3c8-4394874cc3f9",
        "colab": {
          "base_uri": "https://localhost:8080/",
          "height": 503
        }
      },
      "source": [
        "d_inputmin = CuArray(input_arr)\n",
        "d_inputmax = CuArray(input_arr)"
      ],
      "execution_count": 8,
      "outputs": [
        {
          "output_type": "execute_result",
          "data": {
            "text/plain": [
              "1024-element CuArray{Float64,1}:\n",
              " 0.3469296475829524 \n",
              " 0.42652320964933255\n",
              " 0.14672477427006925\n",
              " 0.590779659025265  \n",
              " 0.7991733975272257 \n",
              " 0.18554553957191633\n",
              " 0.5793484178233579 \n",
              " 0.9902520929288257 \n",
              " 0.4793704817045328 \n",
              " 0.49014173417192786\n",
              " 0.10424878780665314\n",
              " 0.35466155136589417\n",
              " 0.07201106740972119\n",
              " ⋮                  \n",
              " 0.249573869176974  \n",
              " 0.79763283942174   \n",
              " 0.8157098777157057 \n",
              " 0.14417111158756457\n",
              " 0.895054338620928  \n",
              " 0.29651677991731784\n",
              " 0.2843714916298379 \n",
              " 0.7016794885722495 \n",
              " 0.7141857000778034 \n",
              " 0.7202133037559715 \n",
              " 0.46409043297108643\n",
              " 0.27396556346921974"
            ]
          },
          "metadata": {
            "tags": []
          },
          "execution_count": 8
        }
      ]
    },
    {
      "cell_type": "code",
      "metadata": {
        "id": "t_qSjI5Oec6B",
        "colab_type": "code",
        "colab": {}
      },
      "source": [
        "@cuda blocks = Int(ceil(N/1024)) threads = 1024 find_minmax(d_inputmin,d_inputmax)"
      ],
      "execution_count": 0,
      "outputs": []
    },
    {
      "cell_type": "code",
      "metadata": {
        "id": "a5WjEaOkfvIK",
        "colab_type": "code",
        "outputId": "e4c9dc24-f0b5-4fa0-c95d-0941e3a44c84",
        "colab": {
          "base_uri": "https://localhost:8080/",
          "height": 35
        }
      },
      "source": [
        "minimum_brightness = Array(d_inputmin)[1]"
      ],
      "execution_count": 13,
      "outputs": [
        {
          "output_type": "execute_result",
          "data": {
            "text/plain": [
              "0.00032795669397178706"
            ]
          },
          "metadata": {
            "tags": []
          },
          "execution_count": 13
        }
      ]
    },
    {
      "cell_type": "code",
      "metadata": {
        "id": "RxXNuQV3DK2_",
        "colab_type": "code",
        "outputId": "f48c4e51-3c47-4d95-c065-5bc180a95dee",
        "colab": {
          "base_uri": "https://localhost:8080/",
          "height": 35
        }
      },
      "source": [
        "maximum_brightness = Array(d_inputmax)[1]"
      ],
      "execution_count": 14,
      "outputs": [
        {
          "output_type": "execute_result",
          "data": {
            "text/plain": [
              "0.998222849796156"
            ]
          },
          "metadata": {
            "tags": []
          },
          "execution_count": 14
        }
      ]
    },
    {
      "cell_type": "code",
      "metadata": {
        "id": "4C5QG8FcEbCe",
        "colab_type": "code",
        "outputId": "5015b183-c041-439e-f34f-b47f30561cb4",
        "colab": {
          "base_uri": "https://localhost:8080/",
          "height": 35
        }
      },
      "source": [
        "range = maximum_brightness - minimum_brightness"
      ],
      "execution_count": 15,
      "outputs": [
        {
          "output_type": "execute_result",
          "data": {
            "text/plain": [
              "0.9978948931021843"
            ]
          },
          "metadata": {
            "tags": []
          },
          "execution_count": 15
        }
      ]
    },
    {
      "cell_type": "code",
      "metadata": {
        "id": "GHXchl2uEf6n",
        "colab_type": "code",
        "outputId": "131d0300-af66-49ca-cc68-e3aa7846cd8b",
        "colab": {
          "base_uri": "https://localhost:8080/",
          "height": 35
        }
      },
      "source": [
        "# Number of bins in histogram\n",
        "const bins = 10\n",
        "# Chunk of memory accessed by each thread while constructing histogram\n",
        "const chunk_histo = 4"
      ],
      "execution_count": 16,
      "outputs": [
        {
          "output_type": "execute_result",
          "data": {
            "text/plain": [
              "4"
            ]
          },
          "metadata": {
            "tags": []
          },
          "execution_count": 16
        }
      ]
    },
    {
      "cell_type": "code",
      "metadata": {
        "id": "VQU9XfJPEf8e",
        "colab_type": "code",
        "outputId": "f66c2122-6833-4b6e-fb4b-cefcfb8806b8",
        "colab": {
          "base_uri": "https://localhost:8080/",
          "height": 503
        }
      },
      "source": [
        "histo = zeros(Int,bins)\n",
        "d_outputhisto = CuArray(histo)\n",
        "d_input_to_histo = CuArray(input_arr)"
      ],
      "execution_count": 17,
      "outputs": [
        {
          "output_type": "execute_result",
          "data": {
            "text/plain": [
              "1024-element CuArray{Float64,1}:\n",
              " 0.3469296475829524 \n",
              " 0.42652320964933255\n",
              " 0.14672477427006925\n",
              " 0.590779659025265  \n",
              " 0.7991733975272257 \n",
              " 0.18554553957191633\n",
              " 0.5793484178233579 \n",
              " 0.9902520929288257 \n",
              " 0.4793704817045328 \n",
              " 0.49014173417192786\n",
              " 0.10424878780665314\n",
              " 0.35466155136589417\n",
              " 0.07201106740972119\n",
              " ⋮                  \n",
              " 0.249573869176974  \n",
              " 0.79763283942174   \n",
              " 0.8157098777157057 \n",
              " 0.14417111158756457\n",
              " 0.895054338620928  \n",
              " 0.29651677991731784\n",
              " 0.2843714916298379 \n",
              " 0.7016794885722495 \n",
              " 0.7141857000778034 \n",
              " 0.7202133037559715 \n",
              " 0.46409043297108643\n",
              " 0.27396556346921974"
            ]
          },
          "metadata": {
            "tags": []
          },
          "execution_count": 17
        }
      ]
    },
    {
      "cell_type": "code",
      "metadata": {
        "id": "5GkW5csnEf-N",
        "colab_type": "code",
        "outputId": "1a0595d9-a22e-4610-945f-a10c74c1c8e8",
        "colab": {
          "base_uri": "https://localhost:8080/",
          "height": 35
        }
      },
      "source": [
        "# Kernel to construct histogram out of brightness values using Chrominance Luminance formula\n",
        "\n",
        "function make_histo(d_input,d_max,d_min,d_range,d_outputhisto)\n",
        "\n",
        "  idx = (blockIdx().x - 1) * blockDim().x + threadIdx().x\n",
        " \n",
        "  shared_histo = @cuStaticSharedMem(Int64,bins)\n",
        "  \n",
        "  if(idx <= div(size(d_input,1),chunk_histo))\n",
        "  \n",
        "    for i=1:bins\n",
        "      shared_histo[i]=0\n",
        "    end\n",
        "    \n",
        "    for i=(idx*chunk_histo-(chunk_histo-1)):(idx*chunk_histo)\n",
        "      bin_calc = Int64(div((d_input[i]-d_min)*bins,d_range))\n",
        "      bin_calc = bin_calc == 0 ? 1 : bin_calc\n",
        "      @atomic shared_histo[bin_calc] += 1\n",
        "    end    \n",
        "    \n",
        "    sync_threads()\n",
        "    \n",
        "    if(threadIdx().x==1)\n",
        "      for i=1:bins\n",
        "        @atomic d_outputhisto[i] += shared_histo[i]\n",
        "      end\n",
        "    end\n",
        "    \n",
        "  end\n",
        "return nothing\n",
        "end"
      ],
      "execution_count": 18,
      "outputs": [
        {
          "output_type": "execute_result",
          "data": {
            "text/plain": [
              "make_histo (generic function with 1 method)"
            ]
          },
          "metadata": {
            "tags": []
          },
          "execution_count": 18
        }
      ]
    },
    {
      "cell_type": "code",
      "metadata": {
        "id": "CmJx2GmPEgBi",
        "colab_type": "code",
        "colab": {}
      },
      "source": [
        "@cuda blocks = Int(ceil(N/(1024*chunk_histo))) threads = 1024 make_histo(d_input_to_histo,maximum_brightness,minimum_brightness,range,d_outputhisto)"
      ],
      "execution_count": 0,
      "outputs": []
    },
    {
      "cell_type": "code",
      "metadata": {
        "id": "P-YyFgDSUqeQ",
        "colab_type": "code",
        "outputId": "a5d531cb-2822-4214-9943-431e31bb4d46",
        "colab": {
          "base_uri": "https://localhost:8080/",
          "height": 215
        }
      },
      "source": [
        "# Histogram constructed\n",
        "h_histo = Array(d_outputhisto)"
      ],
      "execution_count": 21,
      "outputs": [
        {
          "output_type": "execute_result",
          "data": {
            "text/plain": [
              "10-element Array{Int64,1}:\n",
              " 197\n",
              " 101\n",
              "  97\n",
              " 110\n",
              " 110\n",
              " 105\n",
              "  88\n",
              " 116\n",
              "  99\n",
              "   1"
            ]
          },
          "metadata": {
            "tags": []
          },
          "execution_count": 21
        }
      ]
    },
    {
      "cell_type": "code",
      "metadata": {
        "id": "pk8o4rz3e7C1",
        "colab_type": "code",
        "colab": {
          "base_uri": "https://localhost:8080/",
          "height": 35
        },
        "outputId": "7ac2da45-f23f-446e-d760-4f4ad1216498"
      },
      "source": [
        "const threads = bins\n",
        "# Chunk of memory accessed by single thread during scan\n",
        "const chunk_scan = Int(ceil(bins/threads))"
      ],
      "execution_count": 22,
      "outputs": [
        {
          "output_type": "execute_result",
          "data": {
            "text/plain": [
              "1"
            ]
          },
          "metadata": {
            "tags": []
          },
          "execution_count": 22
        }
      ]
    },
    {
      "cell_type": "code",
      "metadata": {
        "id": "YVuxrFBCUqf8",
        "colab_type": "code",
        "outputId": "22be6af8-5b08-48f7-f044-af477ec64037",
        "colab": {
          "base_uri": "https://localhost:8080/",
          "height": 35
        }
      },
      "source": [
        "# Parallel implementation of scan using thread overloading\n",
        "\n",
        "function scan(d_input)\n",
        "\n",
        "  idx=(blockIdx().x - 1) * blockDim().x + threadIdx().x\n",
        "    \n",
        "  temp = @MArray zeros(chunk_scan)\n",
        "  \n",
        "  start = chunk_scan * idx - (chunk_scan-1)\n",
        "  stop = chunk_scan * idx\n",
        "  \n",
        "  # Bounds check\n",
        "  if(idx <= min(size(d_input,1),blockDim().x))\n",
        "    step = 1\n",
        "    while step < size(d_input,1)\n",
        "    \n",
        "    for i=start:stop\n",
        "      if(i <= size(d_input,1))\n",
        "        temp[i - (idx-1)*chunk_scan] = d_input[i]\n",
        "      end\n",
        "    end\n",
        "        \n",
        "    for i=start:stop\n",
        "      if(i + step <= size(d_input,1))\n",
        "        temp[i - (idx-1)*chunk_scan] += d_input[i + step]\n",
        "      end\n",
        "    end\n",
        "    \n",
        "    sync_threads()\n",
        "    \n",
        "    for i=start:stop\n",
        "      if(i + step <= size(d_input,1))\n",
        "        d_input[i + step] = temp[i - (idx-1)*chunk_scan]\n",
        "      end\n",
        "    end\n",
        "    \n",
        "    step *= 2\n",
        "    \n",
        "    end\n",
        "  end\n",
        "\n",
        "return \n",
        "end"
      ],
      "execution_count": 23,
      "outputs": [
        {
          "output_type": "execute_result",
          "data": {
            "text/plain": [
              "scan (generic function with 1 method)"
            ]
          },
          "metadata": {
            "tags": []
          },
          "execution_count": 23
        }
      ]
    },
    {
      "cell_type": "code",
      "metadata": {
        "id": "ogJG4wqrUqh4",
        "colab_type": "code",
        "colab": {}
      },
      "source": [
        "d_histo = CuArray(h_histo)\n",
        "@cuda threads = threads scan(d_histo)"
      ],
      "execution_count": 0,
      "outputs": []
    },
    {
      "cell_type": "code",
      "metadata": {
        "id": "wq_WXEt5gP1o",
        "colab_type": "code",
        "colab": {
          "base_uri": "https://localhost:8080/",
          "height": 215
        },
        "outputId": "4e2a486f-1033-473e-ea60-05072ffd8465"
      },
      "source": [
        "# Inclusive scan (Hillis-Steele-scan) of the histogram\n",
        "inc_scan = Array(d_histo)"
      ],
      "execution_count": 25,
      "outputs": [
        {
          "output_type": "execute_result",
          "data": {
            "text/plain": [
              "10-element Array{Int64,1}:\n",
              "  197\n",
              "  298\n",
              "  395\n",
              "  505\n",
              "  615\n",
              "  720\n",
              "  808\n",
              "  924\n",
              " 1023\n",
              " 1024"
            ]
          },
          "metadata": {
            "tags": []
          },
          "execution_count": 25
        }
      ]
    },
    {
      "cell_type": "code",
      "metadata": {
        "id": "djxYirdugVWs",
        "colab_type": "code",
        "colab": {
          "base_uri": "https://localhost:8080/",
          "height": 35
        },
        "outputId": "5269a94e-cc6f-47e3-db10-6b81d39a5b9a"
      },
      "source": [
        "# Conversion to exclusive scan\n",
        "for i=size(inc_scan,1):-1:2\n",
        "  inc_scan[i] = inc_scan[i-1]  \n",
        "end\n",
        "inc_scan[1] = 0"
      ],
      "execution_count": 26,
      "outputs": [
        {
          "output_type": "execute_result",
          "data": {
            "text/plain": [
              "0"
            ]
          },
          "metadata": {
            "tags": []
          },
          "execution_count": 26
        }
      ]
    },
    {
      "cell_type": "code",
      "metadata": {
        "id": "a9skSUmsgwTQ",
        "colab_type": "code",
        "colab": {
          "base_uri": "https://localhost:8080/",
          "height": 215
        },
        "outputId": "f07d8ee9-cc30-428f-ea57-f0040341aa4d"
      },
      "source": [
        "# Final Tone Mapping result (exclusive scan)\n",
        "exc_scan = inc_scan"
      ],
      "execution_count": 27,
      "outputs": [
        {
          "output_type": "execute_result",
          "data": {
            "text/plain": [
              "10-element Array{Int64,1}:\n",
              "    0\n",
              "  197\n",
              "  298\n",
              "  395\n",
              "  505\n",
              "  615\n",
              "  720\n",
              "  808\n",
              "  924\n",
              " 1023"
            ]
          },
          "metadata": {
            "tags": []
          },
          "execution_count": 27
        }
      ]
    },
    {
      "cell_type": "markdown",
      "metadata": {
        "id": "86YUwefzlOAy",
        "colab_type": "text"
      },
      "source": [
        "## Result is an array of tone-mapped values which is nothing but cumulative distribution of luminance values"
      ]
    }
  ]
}